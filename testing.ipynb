{
 "cells": [
  {
   "cell_type": "code",
   "execution_count": null,
   "id": "2733b76f",
   "metadata": {},
   "outputs": [],
   "source": [
    "state = {\"AIMessage\":\"Hi I am subhiram\",\"state\":{\"messages\":[{\"content\":\"Hi I am subhiram\",\"additional_kwargs\":{},\"response_metadata\":{},\"type\":\"human\",\"name\":\"null\",\"id\":\"07657596-16c4-4cc9-aaba-22c035650099\",\"example\":\"false\"}],\"question\":\"Hi I am subhiram\",\"datasource\":\"combined_collectionall_bigfix_modules_pdfs\",\"retrieved_docs\":[],\"go_to_web_search\":\"Yes\",\"__interrupt__\":[{\"value\":{\"task\":\"Human assistance required.\",\"question\":\"Would you like me to search the Web for the information?\"},\"resumable\":\"true\",\"ns\":[\"interrupt_node_for_web_search:a636b53f-ebc8-503b-bede-21aca7ceb91f\"],\"when\":\"during\"}]}}"
   ]
  },
  {
   "cell_type": "code",
   "execution_count": null,
   "id": "c1fc5c67",
   "metadata": {},
   "outputs": [
    {
     "ename": "KeyError",
     "evalue": "'messages'",
     "output_type": "error",
     "traceback": [
      "\u001b[31m---------------------------------------------------------------------------\u001b[39m",
      "\u001b[31mKeyError\u001b[39m                                  Traceback (most recent call last)",
      "\u001b[36mCell\u001b[39m\u001b[36m \u001b[39m\u001b[32mIn[5]\u001b[39m\u001b[32m, line 1\u001b[39m\n\u001b[32m----> \u001b[39m\u001b[32m1\u001b[39m content = \u001b[43mstate\u001b[49m\u001b[43m[\u001b[49m\u001b[33;43m\"\u001b[39;49m\u001b[33;43mmessages\u001b[39;49m\u001b[33;43m\"\u001b[39;49m\u001b[43m]\u001b[49m[-\u001b[32m1\u001b[39m].content\n",
      "\u001b[31mKeyError\u001b[39m: 'messages'"
     ]
    }
   ],
   "source": []
  },
  {
   "cell_type": "code",
   "execution_count": null,
   "id": "b80571dd",
   "metadata": {},
   "outputs": [],
   "source": []
  }
 ],
 "metadata": {
  "kernelspec": {
   "display_name": ".venv",
   "language": "python",
   "name": "python3"
  },
  "language_info": {
   "codemirror_mode": {
    "name": "ipython",
    "version": 3
   },
   "file_extension": ".py",
   "mimetype": "text/x-python",
   "name": "python",
   "nbconvert_exporter": "python",
   "pygments_lexer": "ipython3",
   "version": "3.11.3"
  }
 },
 "nbformat": 4,
 "nbformat_minor": 5
}
